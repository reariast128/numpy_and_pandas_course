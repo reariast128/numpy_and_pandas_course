{
 "cells": [
  {
   "cell_type": "markdown",
   "metadata": {},
   "source": [
    "# Trabajando con arrays en múltiples dimensiones"
   ]
  },
  {
   "cell_type": "markdown",
   "metadata": {},
   "source": [
    "Toca tener un poco de teoría esta vez antes de poner las manos en la masa.\n",
    "Cuando trabajamos con conjuntos de datos, estos pueden estar organizados en distintas dimensiones.\n",
    "\n",
    "* **Escalar/Scalar**: cuando su dimensión es 0. Por ejemplo, un `int` o un `float` son escalares. Solo tienen una componente, que es la magnitud que representan.\n",
    "* **Vector/Vector**: Cuando su dimensión es 1. Por ejemplo, la colección `[1, 2, 3, 4, 5]` es un vector, ya que solo se mueve en una dirección.\n",
    "* **Matriz/Matrix**: Cuando su dimensión es 2 o 3. Por ejemplo, la colección\n",
    " ```python\n",
    " [[1, 2, 3,],\n",
    " [1, 2, 3],\n",
    " [1, 2, 3]]\n",
    " ```\n",
    " Sería una matriz de dos dimensiones, mientras que una de tres sería de esta forma:\n",
    " ```python\n",
    " [\n",
    "    [[1, 2, 3,], [1, 2, 3]],\n",
    "    [[1, 2, 3,], [1, 2, 3]],\n",
    "    [[1, 2, 3,], [1, 2, 3]]\n",
    " ]\n",
    " ```\n",
    "* **Tensor/Tensor**: Cuando su dimensión es superior a 3. Aunque no se pueden representar gráficamente, en Python se verían algo así:\n",
    " ```python\n",
    " [\n",
    "   [\n",
    "      [[1, 2, 3,], [1, 2, 3]], \n",
    "      [[1, 2, 3], [1, 2, 3]]\n",
    "   ],\n",
    "   [\n",
    "      [[1, 2, 3,], [1, 2, 3]], \n",
    "      [[1, 2, 3], [1, 2, 3]]\n",
    "   ],\n",
    "   [\n",
    "      [[1, 2, 3,], [1, 2, 3]], \n",
    "      [[1, 2, 3], [1, 2, 3]]\n",
    "   ],\n",
    " ]\n",
    " ```\n",
    "\n",
    "Una vez con la teoría lista, pasemos a Numpy."
   ]
  },
  {
   "cell_type": "code",
   "execution_count": 2,
   "metadata": {},
   "outputs": [],
   "source": [
    "import numpy as np"
   ]
  },
  {
   "cell_type": "code",
   "execution_count": 5,
   "metadata": {},
   "outputs": [
    {
     "name": "stdout",
     "output_type": "stream",
     "text": [
      "10\n",
      "0\n"
     ]
    }
   ],
   "source": [
    "scalar = np.array(10)\n",
    "print(scalar)\n",
    "print(scalar.ndim)"
   ]
  },
  {
   "cell_type": "markdown",
   "metadata": {},
   "source": [
    "**Hey!** Con `np.array.ndim ` se puede visualizar la dimensión de un objeto."
   ]
  },
  {
   "cell_type": "code",
   "execution_count": 6,
   "metadata": {},
   "outputs": [
    {
     "name": "stdout",
     "output_type": "stream",
     "text": [
      "[1 2 3 4 5]\n",
      "1\n"
     ]
    }
   ],
   "source": [
    "vector = np.array([x for x in range(1, 6)])\n",
    "print(vector)\n",
    "print(vector.ndim)"
   ]
  },
  {
   "cell_type": "code",
   "execution_count": 9,
   "metadata": {},
   "outputs": [
    {
     "name": "stdout",
     "output_type": "stream",
     "text": [
      "[[0 1 2]\n",
      " [0 1 2]\n",
      " [0 1 2]]\n",
      "2\n"
     ]
    }
   ],
   "source": [
    "matrix_2d = np.array([[x for x in range(0, 3)] for y in range(0, 3)])\n",
    "print(matrix_2d)\n",
    "print(matrix_2d.ndim)"
   ]
  },
  {
   "cell_type": "code",
   "execution_count": 3,
   "metadata": {},
   "outputs": [
    {
     "name": "stdout",
     "output_type": "stream",
     "text": [
      "[[[0 1 2]\n",
      "  [0 1 2]\n",
      "  [0 1 2]]\n",
      "\n",
      " [[0 1 2]\n",
      "  [0 1 2]\n",
      "  [0 1 2]]\n",
      "\n",
      " [[0 1 2]\n",
      "  [0 1 2]\n",
      "  [0 1 2]]]\n",
      "3\n"
     ]
    }
   ],
   "source": [
    "matrix_3d = np.array([[[x for x in range(0, 3)] for y in range(0, 3)] for z in range(0, 3)])\n",
    "print(matrix_3d)\n",
    "print(matrix_3d.ndim)"
   ]
  },
  {
   "cell_type": "code",
   "execution_count": 4,
   "metadata": {},
   "outputs": [
    {
     "name": "stdout",
     "output_type": "stream",
     "text": [
      "[[[[0 1 2]\n",
      "   [0 1 2]\n",
      "   [0 1 2]]\n",
      "\n",
      "  [[0 1 2]\n",
      "   [0 1 2]\n",
      "   [0 1 2]]\n",
      "\n",
      "  [[0 1 2]\n",
      "   [0 1 2]\n",
      "   [0 1 2]]]\n",
      "\n",
      "\n",
      " [[[0 1 2]\n",
      "   [0 1 2]\n",
      "   [0 1 2]]\n",
      "\n",
      "  [[0 1 2]\n",
      "   [0 1 2]\n",
      "   [0 1 2]]\n",
      "\n",
      "  [[0 1 2]\n",
      "   [0 1 2]\n",
      "   [0 1 2]]]\n",
      "\n",
      "\n",
      " [[[0 1 2]\n",
      "   [0 1 2]\n",
      "   [0 1 2]]\n",
      "\n",
      "  [[0 1 2]\n",
      "   [0 1 2]\n",
      "   [0 1 2]]\n",
      "\n",
      "  [[0 1 2]\n",
      "   [0 1 2]\n",
      "   [0 1 2]]]]\n",
      "4\n"
     ]
    }
   ],
   "source": [
    "tensor = np.array([[[[x for x in range(0, 3)] for y in range(0, 3)] for z in range(0, 3)] for u in range(0, 3)])\n",
    "print(tensor)\n",
    "print(tensor.ndim)"
   ]
  },
  {
   "cell_type": "markdown",
   "metadata": {},
   "source": [
    "# Agregar o quitar dimensiones\n",
    "\n",
    "Con `np.expand_dims(array, axis)` añadimos más dimensiones al array."
   ]
  },
  {
   "cell_type": "code",
   "execution_count": 15,
   "metadata": {},
   "outputs": [
    {
     "name": "stdout",
     "output_type": "stream",
     "text": [
      "[[1 2 3]]\n"
     ]
    },
    {
     "data": {
      "text/plain": [
       "2"
      ]
     },
     "execution_count": 15,
     "metadata": {},
     "output_type": "execute_result"
    }
   ],
   "source": [
    "expand = np.expand_dims(np.array([1, 2, 3]), axis=0)\n",
    "print(expand)\n",
    "expand.ndim"
   ]
  },
  {
   "cell_type": "markdown",
   "metadata": {},
   "source": [
    "Y con `np.squeeze` Numpy busca la dimensión que debería tener el array."
   ]
  },
  {
   "cell_type": "code",
   "execution_count": 18,
   "metadata": {},
   "outputs": [
    {
     "name": "stdout",
     "output_type": "stream",
     "text": [
      "[1 2 3]\n"
     ]
    },
    {
     "data": {
      "text/plain": [
       "1"
      ]
     },
     "execution_count": 18,
     "metadata": {},
     "output_type": "execute_result"
    }
   ],
   "source": [
    "reduce = np.squeeze(expand)\n",
    "print(reduce)\n",
    "reduce.ndim"
   ]
  },
  {
   "cell_type": "markdown",
   "metadata": {},
   "source": [
    "Ahora, usemos el tensor de antes para practicar un poco esto."
   ]
  },
  {
   "cell_type": "code",
   "execution_count": 8,
   "metadata": {},
   "outputs": [
    {
     "name": "stdout",
     "output_type": "stream",
     "text": [
      "[[[[[0 1 2]\n",
      "    [0 1 2]\n",
      "    [0 1 2]]\n",
      "\n",
      "   [[0 1 2]\n",
      "    [0 1 2]\n",
      "    [0 1 2]]\n",
      "\n",
      "   [[0 1 2]\n",
      "    [0 1 2]\n",
      "    [0 1 2]]]\n",
      "\n",
      "\n",
      "  [[[0 1 2]\n",
      "    [0 1 2]\n",
      "    [0 1 2]]\n",
      "\n",
      "   [[0 1 2]\n",
      "    [0 1 2]\n",
      "    [0 1 2]]\n",
      "\n",
      "   [[0 1 2]\n",
      "    [0 1 2]\n",
      "    [0 1 2]]]\n",
      "\n",
      "\n",
      "  [[[0 1 2]\n",
      "    [0 1 2]\n",
      "    [0 1 2]]\n",
      "\n",
      "   [[0 1 2]\n",
      "    [0 1 2]\n",
      "    [0 1 2]]\n",
      "\n",
      "   [[0 1 2]\n",
      "    [0 1 2]\n",
      "    [0 1 2]]]]]\n"
     ]
    },
    {
     "data": {
      "text/plain": [
       "5"
      ]
     },
     "execution_count": 8,
     "metadata": {},
     "output_type": "execute_result"
    }
   ],
   "source": [
    "expanded_tensor = np.expand_dims(tensor, axis=0)\n",
    "print(expanded_tensor)\n",
    "expanded_tensor.ndim"
   ]
  },
  {
   "cell_type": "code",
   "execution_count": 9,
   "metadata": {},
   "outputs": [
    {
     "name": "stdout",
     "output_type": "stream",
     "text": [
      "[[[[0 1 2]\n",
      "   [0 1 2]\n",
      "   [0 1 2]]\n",
      "\n",
      "  [[0 1 2]\n",
      "   [0 1 2]\n",
      "   [0 1 2]]\n",
      "\n",
      "  [[0 1 2]\n",
      "   [0 1 2]\n",
      "   [0 1 2]]]\n",
      "\n",
      "\n",
      " [[[0 1 2]\n",
      "   [0 1 2]\n",
      "   [0 1 2]]\n",
      "\n",
      "  [[0 1 2]\n",
      "   [0 1 2]\n",
      "   [0 1 2]]\n",
      "\n",
      "  [[0 1 2]\n",
      "   [0 1 2]\n",
      "   [0 1 2]]]\n",
      "\n",
      "\n",
      " [[[0 1 2]\n",
      "   [0 1 2]\n",
      "   [0 1 2]]\n",
      "\n",
      "  [[0 1 2]\n",
      "   [0 1 2]\n",
      "   [0 1 2]]\n",
      "\n",
      "  [[0 1 2]\n",
      "   [0 1 2]\n",
      "   [0 1 2]]]]\n"
     ]
    },
    {
     "data": {
      "text/plain": [
       "4"
      ]
     },
     "execution_count": 9,
     "metadata": {},
     "output_type": "execute_result"
    }
   ],
   "source": [
    "reduced_tensor = np.squeeze(tensor)\n",
    "print(reduced_tensor)\n",
    "reduced_tensor.ndim"
   ]
  }
 ],
 "metadata": {
  "kernelspec": {
   "display_name": "env",
   "language": "python",
   "name": "python3"
  },
  "language_info": {
   "codemirror_mode": {
    "name": "ipython",
    "version": 3
   },
   "file_extension": ".py",
   "mimetype": "text/x-python",
   "name": "python",
   "nbconvert_exporter": "python",
   "pygments_lexer": "ipython3",
   "version": "3.12.0"
  }
 },
 "nbformat": 4,
 "nbformat_minor": 2
}
