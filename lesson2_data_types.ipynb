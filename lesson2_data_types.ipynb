{
 "cells": [
  {
   "cell_type": "markdown",
   "metadata": {},
   "source": [
    "# Tipos de datos en Numpy"
   ]
  },
  {
   "cell_type": "code",
   "execution_count": 1,
   "metadata": {},
   "outputs": [],
   "source": [
    "import numpy as np"
   ]
  },
  {
   "cell_type": "code",
   "execution_count": 2,
   "metadata": {},
   "outputs": [
    {
     "data": {
      "text/plain": [
       "array([1, 2, 3, 4])"
      ]
     },
     "execution_count": 2,
     "metadata": {},
     "output_type": "execute_result"
    }
   ],
   "source": [
    "np_array = np.array([x for x in range(1, 5)])\n",
    "np_array"
   ]
  },
  {
   "cell_type": "markdown",
   "metadata": {},
   "source": [
    "# Dtype\n",
    "\n",
    "Con `np_array.dtype` evidenciamos el tipo de dato que contiene `array`."
   ]
  },
  {
   "cell_type": "code",
   "execution_count": 3,
   "metadata": {},
   "outputs": [
    {
     "data": {
      "text/plain": [
       "dtype('int32')"
      ]
     },
     "execution_count": 3,
     "metadata": {},
     "output_type": "execute_result"
    }
   ],
   "source": [
    "np_array.dtype"
   ]
  },
  {
   "cell_type": "markdown",
   "metadata": {},
   "source": [
    "## Dtype en la definición del array\n",
    "\n",
    "Esto se hace indicando, como dice en el título, en la definición del array el tipo de dato usando el parámetro `dtype`.\n",
    "Puedes encontrar la guía de tipos aquí: https://numpy.org/doc/stable/user/basics.types.html."
   ]
  },
  {
   "cell_type": "code",
   "execution_count": 6,
   "metadata": {},
   "outputs": [
    {
     "data": {
      "text/plain": [
       "dtype('float64')"
      ]
     },
     "execution_count": 6,
     "metadata": {},
     "output_type": "execute_result"
    }
   ],
   "source": [
    "np_array = np.array([x for x in range(1, 5)], dtype='float')\n",
    "np_array.dtype"
   ]
  },
  {
   "cell_type": "markdown",
   "metadata": {},
   "source": [
    "## Cambiando el tipo de dato del array\n",
    "Con `np_array.astype(datatype)`, reemplazando datatype por un tipo de dato al que sea posible convertir."
   ]
  },
  {
   "cell_type": "code",
   "execution_count": 8,
   "metadata": {},
   "outputs": [
    {
     "data": {
      "text/plain": [
       "dtype('int16')"
      ]
     },
     "execution_count": 8,
     "metadata": {},
     "output_type": "execute_result"
    }
   ],
   "source": [
    "np_array = np_array.astype(np.int16)\n",
    "np_array.dtype"
   ]
  },
  {
   "cell_type": "code",
   "execution_count": 9,
   "metadata": {},
   "outputs": [
    {
     "name": "stdout",
     "output_type": "stream",
     "text": [
      "np_array=[0 1 2 3 4 5]\n",
      "type(np_array)=<class 'numpy.ndarray'>\n"
     ]
    }
   ],
   "source": [
    "np_array = np.array([x for x in range(0, 6)])\n",
    "print(f\"np_array={np_array}\")\n",
    "print(f\"type(np_array)={type(np_array)}\")\n"
   ]
  },
  {
   "cell_type": "markdown",
   "metadata": {},
   "source": [
    "Teniendo en cuenta que Python (y Numpy) toman los datos distintos a 0 como verdaderos, y 0 como falso, es de esperar que np_array tenga todos los elementos como `True`, excepto np_array[0]."
   ]
  },
  {
   "cell_type": "code",
   "execution_count": 11,
   "metadata": {},
   "outputs": [
    {
     "name": "stdout",
     "output_type": "stream",
     "text": [
      "np_array=[False  True  True  True  True  True]\n",
      "type(np_array)=<class 'numpy.ndarray'>\n"
     ]
    }
   ],
   "source": [
    "np_array = np_array.astype(np.bool_)\n",
    "print(f\"np_array={np_array}\")\n",
    "print(f\"type(np_array)={type(np_array)}\")"
   ]
  },
  {
   "cell_type": "markdown",
   "metadata": {},
   "source": [
    "Ahora probamos a pasar a string."
   ]
  },
  {
   "cell_type": "code",
   "execution_count": 13,
   "metadata": {},
   "outputs": [
    {
     "data": {
      "text/plain": [
       "array([b'0', b'1', b'2', b'3', b'4', b'5'], dtype='|S11')"
      ]
     },
     "execution_count": 13,
     "metadata": {},
     "output_type": "execute_result"
    }
   ],
   "source": [
    "np_array = np.array([x for x in range(0, 6)])\n",
    "np_array = np_array.astype(np.string_)\n",
    "np_array"
   ]
  },
  {
   "cell_type": "markdown",
   "metadata": {},
   "source": [
    "Ahora, intentemos pasar de nuevo a enteros. Pero antes, ¿qué pasaría si tenemos algún elemento que no se pueda convertir a entero en el array?"
   ]
  },
  {
   "cell_type": "code",
   "execution_count": 22,
   "metadata": {},
   "outputs": [
    {
     "ename": "ValueError",
     "evalue": "invalid literal for int() with base 10: 'h'",
     "output_type": "error",
     "traceback": [
      "\u001b[1;31m---------------------------------------------------------------------------\u001b[0m",
      "\u001b[1;31mValueError\u001b[0m                                Traceback (most recent call last)",
      "\u001b[1;32mc:\\Users\\reari\\Documents\\code workshop\\np_pd_course\\lesson2_data_types.ipynb Cell 16\u001b[0m line \u001b[0;36m2\n\u001b[0;32m      <a href='vscode-notebook-cell:/c%3A/Users/reari/Documents/code%20workshop/np_pd_course/lesson2_data_types.ipynb#X35sZmlsZQ%3D%3D?line=0'>1</a>\u001b[0m np_array \u001b[39m=\u001b[39m np\u001b[39m.\u001b[39marray([\u001b[39m'\u001b[39m\u001b[39m1\u001b[39m\u001b[39m'\u001b[39m, \u001b[39m'\u001b[39m\u001b[39m2\u001b[39m\u001b[39m'\u001b[39m, \u001b[39m'\u001b[39m\u001b[39m3\u001b[39m\u001b[39m'\u001b[39m, \u001b[39m'\u001b[39m\u001b[39m4\u001b[39m\u001b[39m'\u001b[39m ,\u001b[39m'\u001b[39m\u001b[39m5\u001b[39m\u001b[39m'\u001b[39m, \u001b[39m'\u001b[39m\u001b[39mh\u001b[39m\u001b[39m'\u001b[39m])\n\u001b[1;32m----> <a href='vscode-notebook-cell:/c%3A/Users/reari/Documents/code%20workshop/np_pd_course/lesson2_data_types.ipynb#X35sZmlsZQ%3D%3D?line=1'>2</a>\u001b[0m np_array \u001b[39m=\u001b[39m np_array\u001b[39m.\u001b[39;49mastype(np\u001b[39m.\u001b[39;49mint8)\n",
      "\u001b[1;31mValueError\u001b[0m: invalid literal for int() with base 10: 'h'"
     ]
    }
   ],
   "source": [
    "np_array = np.array(['1', '2', '3', '4' ,'5', 'h'])\n",
    "np_array = np_array.astype(np.int8)"
   ]
  },
  {
   "cell_type": "markdown",
   "metadata": {},
   "source": [
    "Nos da error. Así que no, no podemos hacerlo, al menos no sin aplicar alguna transformación que aún no hemos visto."
   ]
  },
  {
   "cell_type": "code",
   "execution_count": 28,
   "metadata": {},
   "outputs": [
    {
     "data": {
      "text/plain": [
       "array([1, 2, 3, 4, 5], dtype=int8)"
      ]
     },
     "execution_count": 28,
     "metadata": {},
     "output_type": "execute_result"
    }
   ],
   "source": [
    "np_array = np.array(['1', '2', '3', '4' ,'5', 'h'])\n",
    "np_array = np_array[0:5].astype(np.int8)\n",
    "np_array"
   ]
  }
 ],
 "metadata": {
  "kernelspec": {
   "display_name": "env",
   "language": "python",
   "name": "python3"
  },
  "language_info": {
   "codemirror_mode": {
    "name": "ipython",
    "version": 3
   },
   "file_extension": ".py",
   "mimetype": "text/x-python",
   "name": "python",
   "nbconvert_exporter": "python",
   "pygments_lexer": "ipython3",
   "version": "3.12.0"
  }
 },
 "nbformat": 4,
 "nbformat_minor": 2
}
